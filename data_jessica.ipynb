{
 "cells": [
  {
   "cell_type": "code",
   "execution_count": 1,
   "metadata": {},
   "outputs": [],
   "source": [
    "import data_outcomes as data\n",
    "import data_models\n",
    "\n",
    "# Dependencies\n",
    "from sklearn.model_selection import train_test_split\n",
    "from sklearn.linear_model import LogisticRegression\n",
    "from sklearn.metrics import accuracy_score\n",
    "from sklearn.model_selection import cross_val_score\n",
    "from sklearn.metrics import mean_squared_error, r2_score\n",
    "from sklearn.preprocessing import StandardScaler, MinMaxScaler\n",
    "from sklearn.metrics import confusion_matrix, classification_report, balanced_accuracy_score, roc_auc_score\n",
    "import statsmodels.api as sm\n",
    "import matplotlib.pyplot as plt\n",
    "from sklearn.neighbors import KNeighborsClassifier\n",
    "from sklearn.ensemble import GradientBoostingClassifier\n",
    "from sklearn.ensemble import AdaBoostClassifier\n",
    "\n",
    "import pandas as pd\n",
    "import datetime\n",
    "import numpy as np\n",
    "from scipy.stats import zscore\n",
    "import scipy.stats as stats"
   ]
  },
  {
   "cell_type": "markdown",
   "metadata": {},
   "source": [
    "### Loading original dataset as dataframe"
   ]
  },
  {
   "cell_type": "code",
   "execution_count": 2,
   "metadata": {},
   "outputs": [
    {
     "name": "stdout",
     "output_type": "stream",
     "text": [
      "----> Retrieving information for Resources/diabetes.csv\n",
      "----> Renaming DiabetesPedigreeFunction column to FamilyHistory\n",
      "----> Mean will be substituted for 0 values\n",
      "----> 121 substituted for 0 values in Glucose\n",
      "----> 72 substituted for 0 values in BloodPressure\n",
      "----> 29 substituted for 0 values in SkinThickness\n",
      "----> 155 substituted for 0 values in Insulin\n",
      "----> 32 substituted for 0 values in BMI\n"
     ]
    },
    {
     "data": {
      "text/html": [
       "<div>\n",
       "<style scoped>\n",
       "    .dataframe tbody tr th:only-of-type {\n",
       "        vertical-align: middle;\n",
       "    }\n",
       "\n",
       "    .dataframe tbody tr th {\n",
       "        vertical-align: top;\n",
       "    }\n",
       "\n",
       "    .dataframe thead th {\n",
       "        text-align: right;\n",
       "    }\n",
       "</style>\n",
       "<table border=\"1\" class=\"dataframe\">\n",
       "  <thead>\n",
       "    <tr style=\"text-align: right;\">\n",
       "      <th></th>\n",
       "      <th>Pregnancies</th>\n",
       "      <th>Glucose</th>\n",
       "      <th>BloodPressure</th>\n",
       "      <th>SkinThickness</th>\n",
       "      <th>Insulin</th>\n",
       "      <th>BMI</th>\n",
       "      <th>FamilyHistory</th>\n",
       "      <th>Age</th>\n",
       "      <th>Outcome</th>\n",
       "    </tr>\n",
       "  </thead>\n",
       "  <tbody>\n",
       "    <tr>\n",
       "      <th>0</th>\n",
       "      <td>6</td>\n",
       "      <td>148</td>\n",
       "      <td>72</td>\n",
       "      <td>35</td>\n",
       "      <td>155</td>\n",
       "      <td>33</td>\n",
       "      <td>0.627</td>\n",
       "      <td>50</td>\n",
       "      <td>1</td>\n",
       "    </tr>\n",
       "    <tr>\n",
       "      <th>1</th>\n",
       "      <td>1</td>\n",
       "      <td>85</td>\n",
       "      <td>66</td>\n",
       "      <td>29</td>\n",
       "      <td>155</td>\n",
       "      <td>26</td>\n",
       "      <td>0.351</td>\n",
       "      <td>31</td>\n",
       "      <td>0</td>\n",
       "    </tr>\n",
       "    <tr>\n",
       "      <th>2</th>\n",
       "      <td>8</td>\n",
       "      <td>183</td>\n",
       "      <td>64</td>\n",
       "      <td>29</td>\n",
       "      <td>155</td>\n",
       "      <td>23</td>\n",
       "      <td>0.672</td>\n",
       "      <td>32</td>\n",
       "      <td>1</td>\n",
       "    </tr>\n",
       "    <tr>\n",
       "      <th>3</th>\n",
       "      <td>1</td>\n",
       "      <td>89</td>\n",
       "      <td>66</td>\n",
       "      <td>23</td>\n",
       "      <td>94</td>\n",
       "      <td>28</td>\n",
       "      <td>0.167</td>\n",
       "      <td>21</td>\n",
       "      <td>0</td>\n",
       "    </tr>\n",
       "    <tr>\n",
       "      <th>4</th>\n",
       "      <td>0</td>\n",
       "      <td>137</td>\n",
       "      <td>40</td>\n",
       "      <td>35</td>\n",
       "      <td>168</td>\n",
       "      <td>43</td>\n",
       "      <td>2.288</td>\n",
       "      <td>33</td>\n",
       "      <td>1</td>\n",
       "    </tr>\n",
       "  </tbody>\n",
       "</table>\n",
       "</div>"
      ],
      "text/plain": [
       "   Pregnancies  Glucose  BloodPressure  SkinThickness  Insulin  BMI  \\\n",
       "0            6      148             72             35      155   33   \n",
       "1            1       85             66             29      155   26   \n",
       "2            8      183             64             29      155   23   \n",
       "3            1       89             66             23       94   28   \n",
       "4            0      137             40             35      168   43   \n",
       "\n",
       "   FamilyHistory  Age  Outcome  \n",
       "0          0.627   50        1  \n",
       "1          0.351   31        0  \n",
       "2          0.672   32        1  \n",
       "3          0.167   21        0  \n",
       "4          2.288   33        1  "
      ]
     },
     "metadata": {},
     "output_type": "display_data"
    }
   ],
   "source": [
    "df = data.getDiabetesDataDataframe()\n",
    "display(df.head())"
   ]
  },
  {
   "cell_type": "markdown",
   "metadata": {},
   "source": [
    "### Loading new data set as dataframe"
   ]
  },
  {
   "cell_type": "code",
   "execution_count": 3,
   "metadata": {},
   "outputs": [
    {
     "name": "stdout",
     "output_type": "stream",
     "text": [
      "----> Retrieving information for Resources/diabetes_data.csv\n"
     ]
    },
    {
     "data": {
      "text/html": [
       "<div>\n",
       "<style scoped>\n",
       "    .dataframe tbody tr th:only-of-type {\n",
       "        vertical-align: middle;\n",
       "    }\n",
       "\n",
       "    .dataframe tbody tr th {\n",
       "        vertical-align: top;\n",
       "    }\n",
       "\n",
       "    .dataframe thead th {\n",
       "        text-align: right;\n",
       "    }\n",
       "</style>\n",
       "<table border=\"1\" class=\"dataframe\">\n",
       "  <thead>\n",
       "    <tr style=\"text-align: right;\">\n",
       "      <th></th>\n",
       "      <th>Age</th>\n",
       "      <th>Sex</th>\n",
       "      <th>HighChol</th>\n",
       "      <th>CholCheck</th>\n",
       "      <th>BMI</th>\n",
       "      <th>Smoker</th>\n",
       "      <th>HeartDiseaseorAttack</th>\n",
       "      <th>PhysActivity</th>\n",
       "      <th>Fruits</th>\n",
       "      <th>Veggies</th>\n",
       "      <th>HvyAlcoholConsump</th>\n",
       "      <th>GenHlth</th>\n",
       "      <th>MentHlth</th>\n",
       "      <th>PhysHlth</th>\n",
       "      <th>DiffWalk</th>\n",
       "      <th>Stroke</th>\n",
       "      <th>HighBP</th>\n",
       "      <th>Diabetes</th>\n",
       "    </tr>\n",
       "  </thead>\n",
       "  <tbody>\n",
       "    <tr>\n",
       "      <th>4</th>\n",
       "      <td>8.0</td>\n",
       "      <td>0.0</td>\n",
       "      <td>0.0</td>\n",
       "      <td>1.0</td>\n",
       "      <td>29.0</td>\n",
       "      <td>1.0</td>\n",
       "      <td>0.0</td>\n",
       "      <td>1.0</td>\n",
       "      <td>1.0</td>\n",
       "      <td>1.0</td>\n",
       "      <td>0.0</td>\n",
       "      <td>2.0</td>\n",
       "      <td>0.0</td>\n",
       "      <td>0.0</td>\n",
       "      <td>0.0</td>\n",
       "      <td>0.0</td>\n",
       "      <td>0.0</td>\n",
       "      <td>0.0</td>\n",
       "    </tr>\n",
       "    <tr>\n",
       "      <th>5</th>\n",
       "      <td>1.0</td>\n",
       "      <td>0.0</td>\n",
       "      <td>0.0</td>\n",
       "      <td>1.0</td>\n",
       "      <td>18.0</td>\n",
       "      <td>0.0</td>\n",
       "      <td>0.0</td>\n",
       "      <td>1.0</td>\n",
       "      <td>1.0</td>\n",
       "      <td>1.0</td>\n",
       "      <td>0.0</td>\n",
       "      <td>2.0</td>\n",
       "      <td>7.0</td>\n",
       "      <td>0.0</td>\n",
       "      <td>0.0</td>\n",
       "      <td>0.0</td>\n",
       "      <td>0.0</td>\n",
       "      <td>0.0</td>\n",
       "    </tr>\n",
       "    <tr>\n",
       "      <th>8</th>\n",
       "      <td>3.0</td>\n",
       "      <td>0.0</td>\n",
       "      <td>0.0</td>\n",
       "      <td>1.0</td>\n",
       "      <td>32.0</td>\n",
       "      <td>0.0</td>\n",
       "      <td>0.0</td>\n",
       "      <td>1.0</td>\n",
       "      <td>1.0</td>\n",
       "      <td>1.0</td>\n",
       "      <td>0.0</td>\n",
       "      <td>3.0</td>\n",
       "      <td>0.0</td>\n",
       "      <td>0.0</td>\n",
       "      <td>0.0</td>\n",
       "      <td>0.0</td>\n",
       "      <td>0.0</td>\n",
       "      <td>0.0</td>\n",
       "    </tr>\n",
       "    <tr>\n",
       "      <th>10</th>\n",
       "      <td>12.0</td>\n",
       "      <td>0.0</td>\n",
       "      <td>1.0</td>\n",
       "      <td>1.0</td>\n",
       "      <td>24.0</td>\n",
       "      <td>1.0</td>\n",
       "      <td>1.0</td>\n",
       "      <td>1.0</td>\n",
       "      <td>1.0</td>\n",
       "      <td>1.0</td>\n",
       "      <td>0.0</td>\n",
       "      <td>3.0</td>\n",
       "      <td>0.0</td>\n",
       "      <td>4.0</td>\n",
       "      <td>0.0</td>\n",
       "      <td>0.0</td>\n",
       "      <td>1.0</td>\n",
       "      <td>0.0</td>\n",
       "    </tr>\n",
       "    <tr>\n",
       "      <th>14</th>\n",
       "      <td>10.0</td>\n",
       "      <td>0.0</td>\n",
       "      <td>1.0</td>\n",
       "      <td>1.0</td>\n",
       "      <td>29.0</td>\n",
       "      <td>1.0</td>\n",
       "      <td>0.0</td>\n",
       "      <td>1.0</td>\n",
       "      <td>1.0</td>\n",
       "      <td>0.0</td>\n",
       "      <td>0.0</td>\n",
       "      <td>1.0</td>\n",
       "      <td>0.0</td>\n",
       "      <td>0.0</td>\n",
       "      <td>1.0</td>\n",
       "      <td>0.0</td>\n",
       "      <td>0.0</td>\n",
       "      <td>0.0</td>\n",
       "    </tr>\n",
       "  </tbody>\n",
       "</table>\n",
       "</div>"
      ],
      "text/plain": [
       "     Age  Sex  HighChol  CholCheck   BMI  Smoker  HeartDiseaseorAttack  \\\n",
       "4    8.0  0.0       0.0        1.0  29.0     1.0                   0.0   \n",
       "5    1.0  0.0       0.0        1.0  18.0     0.0                   0.0   \n",
       "8    3.0  0.0       0.0        1.0  32.0     0.0                   0.0   \n",
       "10  12.0  0.0       1.0        1.0  24.0     1.0                   1.0   \n",
       "14  10.0  0.0       1.0        1.0  29.0     1.0                   0.0   \n",
       "\n",
       "    PhysActivity  Fruits  Veggies  HvyAlcoholConsump  GenHlth  MentHlth  \\\n",
       "4            1.0     1.0      1.0                0.0      2.0       0.0   \n",
       "5            1.0     1.0      1.0                0.0      2.0       7.0   \n",
       "8            1.0     1.0      1.0                0.0      3.0       0.0   \n",
       "10           1.0     1.0      1.0                0.0      3.0       0.0   \n",
       "14           1.0     1.0      0.0                0.0      1.0       0.0   \n",
       "\n",
       "    PhysHlth  DiffWalk  Stroke  HighBP  Diabetes  \n",
       "4        0.0       0.0     0.0     0.0       0.0  \n",
       "5        0.0       0.0     0.0     0.0       0.0  \n",
       "8        0.0       0.0     0.0     0.0       0.0  \n",
       "10       4.0       0.0     0.0     1.0       0.0  \n",
       "14       0.0       1.0     0.0     0.0       0.0  "
      ]
     },
     "metadata": {},
     "output_type": "display_data"
    }
   ],
   "source": [
    "dfb = data.getDiabetesBehaviorDataframe()\n",
    "display(dfb.head())"
   ]
  },
  {
   "cell_type": "code",
   "execution_count": 4,
   "metadata": {},
   "outputs": [
    {
     "name": "stdout",
     "output_type": "stream",
     "text": [
      "------------ Running predictions for LogisticRegression(random_state=42)  --------------------\n",
      "Testing all features\n",
      "Testing dropping features\n",
      "Returning all features\n",
      "------------ Running predictions for KNeighborsClassifier(n_neighbors=27)  --------------------\n",
      "Testing all features\n",
      "Testing dropping features\n",
      "Returning all features\n",
      "------------ Running predictions for GradientBoostingClassifier(random_state=42)  --------------------\n",
      "Testing all features\n",
      "Testing dropping features\n",
      "Returning all features\n",
      "------------ Running predictions for AdaBoostClassifier(random_state=42)  --------------------\n"
     ]
    },
    {
     "name": "stderr",
     "output_type": "stream",
     "text": [
      "/opt/anaconda3/lib/python3.12/site-packages/sklearn/ensemble/_weight_boosting.py:519: FutureWarning: The SAMME.R algorithm (the default) is deprecated and will be removed in 1.6. Use the SAMME algorithm to circumvent this warning.\n",
      "  warnings.warn(\n"
     ]
    },
    {
     "name": "stdout",
     "output_type": "stream",
     "text": [
      "Testing all features\n"
     ]
    },
    {
     "name": "stderr",
     "output_type": "stream",
     "text": [
      "/opt/anaconda3/lib/python3.12/site-packages/sklearn/ensemble/_weight_boosting.py:519: FutureWarning: The SAMME.R algorithm (the default) is deprecated and will be removed in 1.6. Use the SAMME algorithm to circumvent this warning.\n",
      "  warnings.warn(\n"
     ]
    },
    {
     "name": "stdout",
     "output_type": "stream",
     "text": [
      "Testing dropping features\n",
      "Returning all features\n"
     ]
    },
    {
     "name": "stderr",
     "output_type": "stream",
     "text": [
      "/opt/anaconda3/lib/python3.12/site-packages/sklearn/ensemble/_weight_boosting.py:519: FutureWarning: The SAMME.R algorithm (the default) is deprecated and will be removed in 1.6. Use the SAMME algorithm to circumvent this warning.\n",
      "  warnings.warn(\n"
     ]
    }
   ],
   "source": [
    "models = [\n",
    "        LogisticRegression(random_state=42),\n",
    "        KNeighborsClassifier(n_neighbors=27),\n",
    "        GradientBoostingClassifier(random_state=42),\n",
    "        AdaBoostClassifier(random_state=42)\n",
    "    ]\n",
    "\n",
    "dict = data_models.model_selector(dfb, models)\n"
   ]
  },
  {
   "cell_type": "code",
   "execution_count": 5,
   "metadata": {},
   "outputs": [
    {
     "name": "stdout",
     "output_type": "stream",
     "text": [
      "model: <class 'sklearn.linear_model._logistic.LogisticRegression'>\n",
      "train_score: 0.7604640661363715\n",
      "test_score: 0.7601333750130249\n",
      "test_metrics: {'model': <class 'sklearn.linear_model._logistic.LogisticRegression'>, 'accuracy': 0.7601333750130249, 'confusion_matrix': array([[3459, 1144],\n",
      "       [1158, 3836]]), 'classification_report': '              precision    recall  f1-score   support\\n\\n           1       0.75      0.75      0.75      4603\\n           0       0.77      0.77      0.77      4994\\n\\n    accuracy                           0.76      9597\\n   macro avg       0.76      0.76      0.76      9597\\nweighted avg       0.76      0.76      0.76      9597\\n', 'balanced_accuracy_score': 0.7597940905145266}\n",
      "model: <class 'sklearn.neighbors._classification.KNeighborsClassifier'>\n",
      "train_score: 0.7653270346312828\n",
      "test_score: 0.7542982181931853\n",
      "test_metrics: {'model': <class 'sklearn.neighbors._classification.KNeighborsClassifier'>, 'accuracy': 0.7542982181931853, 'confusion_matrix': array([[3606,  997],\n",
      "       [1361, 3633]]), 'classification_report': '              precision    recall  f1-score   support\\n\\n           1       0.73      0.78      0.75      4603\\n           0       0.78      0.73      0.75      4994\\n\\n    accuracy                           0.75      9597\\n   macro avg       0.76      0.76      0.75      9597\\nweighted avg       0.76      0.75      0.75      9597\\n', 'balanced_accuracy_score': 0.7554375483036737}\n",
      "model: <class 'sklearn.ensemble._gb.GradientBoostingClassifier'>\n",
      "train_score: 0.7692868804057105\n",
      "test_score: 0.7624257580493904\n",
      "test_metrics: {'model': <class 'sklearn.ensemble._gb.GradientBoostingClassifier'>, 'accuracy': 0.7624257580493904, 'confusion_matrix': array([[3603, 1000],\n",
      "       [1280, 3714]]), 'classification_report': '              precision    recall  f1-score   support\\n\\n           1       0.74      0.78      0.76      4603\\n           0       0.79      0.74      0.77      4994\\n\\n    accuracy                           0.76      9597\\n   macro avg       0.76      0.76      0.76      9597\\nweighted avg       0.76      0.76      0.76      9597\\n', 'balanced_accuracy_score': 0.7632214055519675}\n",
      "model: <class 'sklearn.ensemble._weight_boosting.AdaBoostClassifier'>\n",
      "train_score: 0.7624787245128347\n",
      "test_score: 0.7583619881212879\n",
      "test_metrics: {'model': <class 'sklearn.ensemble._weight_boosting.AdaBoostClassifier'>, 'accuracy': 0.7583619881212879, 'confusion_matrix': array([[3489, 1114],\n",
      "       [1205, 3789]]), 'classification_report': '              precision    recall  f1-score   support\\n\\n           1       0.74      0.76      0.75      4603\\n           0       0.77      0.76      0.77      4994\\n\\n    accuracy                           0.76      9597\\n   macro avg       0.76      0.76      0.76      9597\\nweighted avg       0.76      0.76      0.76      9597\\n', 'balanced_accuracy_score': 0.7583471880355928}\n"
     ]
    }
   ],
   "source": [
    "for mdl in dict:\n",
    "    met = dict[mdl]\n",
    "    for key in met:\n",
    "        print(f'{key}: {met[key]}')"
   ]
  },
  {
   "cell_type": "markdown",
   "metadata": {},
   "source": [
    "### Creating the Test Train Split and Scale the data"
   ]
  },
  {
   "cell_type": "code",
   "execution_count": 4,
   "metadata": {},
   "outputs": [],
   "source": [
    "# Split training and testing sets\n",
    "# Create the features DataFrame, X\n",
    "X = dfb.copy()\n",
    "X = X.drop(columns=['Diabetes'])\n",
    "y = dfb['Diabetes']"
   ]
  },
  {
   "cell_type": "code",
   "execution_count": 5,
   "metadata": {},
   "outputs": [
    {
     "data": {
      "text/html": [
       "<div>\n",
       "<style scoped>\n",
       "    .dataframe tbody tr th:only-of-type {\n",
       "        vertical-align: middle;\n",
       "    }\n",
       "\n",
       "    .dataframe tbody tr th {\n",
       "        vertical-align: top;\n",
       "    }\n",
       "\n",
       "    .dataframe thead th {\n",
       "        text-align: right;\n",
       "    }\n",
       "</style>\n",
       "<table border=\"1\" class=\"dataframe\">\n",
       "  <thead>\n",
       "    <tr style=\"text-align: right;\">\n",
       "      <th></th>\n",
       "      <th>Age</th>\n",
       "      <th>Sex</th>\n",
       "      <th>HighChol</th>\n",
       "      <th>CholCheck</th>\n",
       "      <th>BMI</th>\n",
       "      <th>Smoker</th>\n",
       "      <th>HeartDiseaseorAttack</th>\n",
       "      <th>PhysActivity</th>\n",
       "      <th>Fruits</th>\n",
       "      <th>Veggies</th>\n",
       "      <th>HvyAlcoholConsump</th>\n",
       "      <th>GenHlth</th>\n",
       "      <th>MentHlth</th>\n",
       "      <th>PhysHlth</th>\n",
       "      <th>DiffWalk</th>\n",
       "      <th>Stroke</th>\n",
       "      <th>HighBP</th>\n",
       "    </tr>\n",
       "  </thead>\n",
       "  <tbody>\n",
       "    <tr>\n",
       "      <th>4</th>\n",
       "      <td>8.0</td>\n",
       "      <td>0.0</td>\n",
       "      <td>0.0</td>\n",
       "      <td>1.0</td>\n",
       "      <td>29.0</td>\n",
       "      <td>1.0</td>\n",
       "      <td>0.0</td>\n",
       "      <td>1.0</td>\n",
       "      <td>1.0</td>\n",
       "      <td>1.0</td>\n",
       "      <td>0.0</td>\n",
       "      <td>2.0</td>\n",
       "      <td>0.0</td>\n",
       "      <td>0.0</td>\n",
       "      <td>0.0</td>\n",
       "      <td>0.0</td>\n",
       "      <td>0.0</td>\n",
       "    </tr>\n",
       "    <tr>\n",
       "      <th>5</th>\n",
       "      <td>1.0</td>\n",
       "      <td>0.0</td>\n",
       "      <td>0.0</td>\n",
       "      <td>1.0</td>\n",
       "      <td>18.0</td>\n",
       "      <td>0.0</td>\n",
       "      <td>0.0</td>\n",
       "      <td>1.0</td>\n",
       "      <td>1.0</td>\n",
       "      <td>1.0</td>\n",
       "      <td>0.0</td>\n",
       "      <td>2.0</td>\n",
       "      <td>7.0</td>\n",
       "      <td>0.0</td>\n",
       "      <td>0.0</td>\n",
       "      <td>0.0</td>\n",
       "      <td>0.0</td>\n",
       "    </tr>\n",
       "    <tr>\n",
       "      <th>8</th>\n",
       "      <td>3.0</td>\n",
       "      <td>0.0</td>\n",
       "      <td>0.0</td>\n",
       "      <td>1.0</td>\n",
       "      <td>32.0</td>\n",
       "      <td>0.0</td>\n",
       "      <td>0.0</td>\n",
       "      <td>1.0</td>\n",
       "      <td>1.0</td>\n",
       "      <td>1.0</td>\n",
       "      <td>0.0</td>\n",
       "      <td>3.0</td>\n",
       "      <td>0.0</td>\n",
       "      <td>0.0</td>\n",
       "      <td>0.0</td>\n",
       "      <td>0.0</td>\n",
       "      <td>0.0</td>\n",
       "    </tr>\n",
       "    <tr>\n",
       "      <th>10</th>\n",
       "      <td>12.0</td>\n",
       "      <td>0.0</td>\n",
       "      <td>1.0</td>\n",
       "      <td>1.0</td>\n",
       "      <td>24.0</td>\n",
       "      <td>1.0</td>\n",
       "      <td>1.0</td>\n",
       "      <td>1.0</td>\n",
       "      <td>1.0</td>\n",
       "      <td>1.0</td>\n",
       "      <td>0.0</td>\n",
       "      <td>3.0</td>\n",
       "      <td>0.0</td>\n",
       "      <td>4.0</td>\n",
       "      <td>0.0</td>\n",
       "      <td>0.0</td>\n",
       "      <td>1.0</td>\n",
       "    </tr>\n",
       "    <tr>\n",
       "      <th>14</th>\n",
       "      <td>10.0</td>\n",
       "      <td>0.0</td>\n",
       "      <td>1.0</td>\n",
       "      <td>1.0</td>\n",
       "      <td>29.0</td>\n",
       "      <td>1.0</td>\n",
       "      <td>0.0</td>\n",
       "      <td>1.0</td>\n",
       "      <td>1.0</td>\n",
       "      <td>0.0</td>\n",
       "      <td>0.0</td>\n",
       "      <td>1.0</td>\n",
       "      <td>0.0</td>\n",
       "      <td>0.0</td>\n",
       "      <td>1.0</td>\n",
       "      <td>0.0</td>\n",
       "      <td>0.0</td>\n",
       "    </tr>\n",
       "  </tbody>\n",
       "</table>\n",
       "</div>"
      ],
      "text/plain": [
       "     Age  Sex  HighChol  CholCheck   BMI  Smoker  HeartDiseaseorAttack  \\\n",
       "4    8.0  0.0       0.0        1.0  29.0     1.0                   0.0   \n",
       "5    1.0  0.0       0.0        1.0  18.0     0.0                   0.0   \n",
       "8    3.0  0.0       0.0        1.0  32.0     0.0                   0.0   \n",
       "10  12.0  0.0       1.0        1.0  24.0     1.0                   1.0   \n",
       "14  10.0  0.0       1.0        1.0  29.0     1.0                   0.0   \n",
       "\n",
       "    PhysActivity  Fruits  Veggies  HvyAlcoholConsump  GenHlth  MentHlth  \\\n",
       "4            1.0     1.0      1.0                0.0      2.0       0.0   \n",
       "5            1.0     1.0      1.0                0.0      2.0       7.0   \n",
       "8            1.0     1.0      1.0                0.0      3.0       0.0   \n",
       "10           1.0     1.0      1.0                0.0      3.0       0.0   \n",
       "14           1.0     1.0      0.0                0.0      1.0       0.0   \n",
       "\n",
       "    PhysHlth  DiffWalk  Stroke  HighBP  \n",
       "4        0.0       0.0     0.0     0.0  \n",
       "5        0.0       0.0     0.0     0.0  \n",
       "8        0.0       0.0     0.0     0.0  \n",
       "10       4.0       0.0     0.0     1.0  \n",
       "14       0.0       1.0     0.0     0.0  "
      ]
     },
     "metadata": {},
     "output_type": "display_data"
    }
   ],
   "source": [
    "display(X.head())"
   ]
  },
  {
   "cell_type": "code",
   "execution_count": 6,
   "metadata": {},
   "outputs": [],
   "source": [
    "\n",
    "\n",
    "# Use train_test_split to separate the data\n",
    "X_train, X_test, y_train, y_test = train_test_split(X, y)\n",
    "\n",
    "scaler = StandardScaler().fit(X_train)\n",
    "X_train_scaled = scaler.transform(X_train)\n",
    "X_test_scaled = scaler.transform(X_test)\n",
    "\n",
    "\n"
   ]
  },
  {
   "cell_type": "markdown",
   "metadata": {},
   "source": [
    "### Create Logistic Regression Model"
   ]
  },
  {
   "cell_type": "code",
   "execution_count": 16,
   "metadata": {},
   "outputs": [
    {
     "name": "stdout",
     "output_type": "stream",
     "text": [
      "Training Data Score: 0.7580673173781652\n",
      "Testing Data Score: 0.7656559341460873\n"
     ]
    }
   ],
   "source": [
    "# Create a `LogisticRegression` function and assign it \n",
    "# to a variable named `logistic_regression_model`.\n",
    "logistic_regression_model = LogisticRegression(random_state=42)\n",
    "\n",
    "# Fit the model\n",
    "logistic_regression_model.fit(X_train_scaled, y_train)\n",
    "\n",
    "# Score the model\n",
    "print(f\"Training Data Score: {logistic_regression_model.score(X_train_scaled, y_train)}\")\n",
    "print(f\"Testing Data Score: {logistic_regression_model.score(X_test_scaled, y_test)}\")\n",
    "\n",
    "# Generate predictions from the model we just fit\n",
    "training_predictions = logistic_regression_model.predict(X_train_scaled)\n",
    "\n",
    "# Convert those predictions (and actual values) to a DataFrame\n",
    "training_results_df = pd.DataFrame({\"Prediction\": training_predictions, \"Actual\": y_train})\n",
    "\n",
    "# Apply the fitted model to the `test` dataset\n",
    "testing_predictions = logistic_regression_model.predict(X_test_scaled)\n",
    "\n",
    "# Save both the test predictions and actual test values to a DataFrame\n",
    "testing_results = pd.DataFrame({\n",
    "    \"Testing Data Predictions\": testing_predictions, \n",
    "    \"Testing Data Actual Targets\": y_test})"
   ]
  },
  {
   "cell_type": "code",
   "execution_count": 8,
   "metadata": {},
   "outputs": [],
   "source": [
    "#lr = sm.Logit(y_train, X_train_scaled).fit(method='bfgs')\n",
    "#lr.pvalues.sort_values()\n",
    "#lr.pvalues"
   ]
  },
  {
   "cell_type": "markdown",
   "metadata": {},
   "source": [
    "### Logistic Regression metrics"
   ]
  },
  {
   "cell_type": "code",
   "execution_count": 9,
   "metadata": {},
   "outputs": [],
   "source": [
    "accuracy = accuracy_score(y_test, testing_predictions)\n",
    "confusion = confusion_matrix(y_test, testing_predictions, labels=[1,0])\n",
    "classification = classification_report(y_test, testing_predictions, labels = [1, 0])\n",
    "balanced_accuracy = balanced_accuracy_score(y_test, testing_predictions)\n",
    "r2 = r2_score(y_test, testing_predictions)\n",
    "cross_val = cross_val_score(LogisticRegression(), X_train_scaled, y_train, scoring = \"r2\")\n"
   ]
  },
  {
   "cell_type": "code",
   "execution_count": 10,
   "metadata": {},
   "outputs": [],
   "source": [
    "# Provided code to create the adjusted r-squared function\n",
    "def r2_adj(x, y, model):\n",
    "    r2 = model.score(x,y)\n",
    "    n_cols = x.shape[1]\n",
    "    return 1 - (1 - r2) * (len(y) - 1) / (len(y) - n_cols - 1)\n",
    "adj_score = r2_adj(X_test_scaled, y_test, logistic_regression_model)"
   ]
  },
  {
   "cell_type": "code",
   "execution_count": 11,
   "metadata": {},
   "outputs": [
    {
     "name": "stdout",
     "output_type": "stream",
     "text": [
      "accuracy: 0.7656559341460873\n",
      "confusion: [[3487 1118]\n",
      " [1131 3861]]\n",
      "classification:               precision    recall  f1-score   support\n",
      "\n",
      "           1       0.76      0.76      0.76      4605\n",
      "           0       0.78      0.77      0.77      4992\n",
      "\n",
      "    accuracy                           0.77      9597\n",
      "   macro avg       0.77      0.77      0.77      9597\n",
      "weighted avg       0.77      0.77      0.77      9597\n",
      "\n",
      "balanced_accuracy: 0.7653289562975027\n",
      "r2: 0.06109697339848008\n",
      "r2_adj: 0.7652400400945667\n",
      "cross_val: [0.02928281 0.01675743 0.04737503 0.02652704 0.04026291]\n"
     ]
    }
   ],
   "source": [
    "print(f'accuracy: {accuracy}')\n",
    "print(f'confusion: {confusion}')\n",
    "print(f'classification: {classification}')\n",
    "print(f'balanced_accuracy: {balanced_accuracy}')\n",
    "print(f'r2: {r2}')\n",
    "print(f'r2_adj: {adj_score}')\n",
    "print(f'cross_val: {cross_val}')"
   ]
  },
  {
   "cell_type": "markdown",
   "metadata": {},
   "source": [
    "### Finding the best K for a KNN model"
   ]
  },
  {
   "cell_type": "code",
   "execution_count": 12,
   "metadata": {},
   "outputs": [
    {
     "name": "stdout",
     "output_type": "stream",
     "text": [
      "k: 1, Train/Test Score: 0.973/0.677\n",
      "k: 3, Train/Test Score: 0.836/0.711\n",
      "k: 5, Train/Test Score: 0.805/0.725\n",
      "k: 7, Train/Test Score: 0.793/0.738\n",
      "k: 9, Train/Test Score: 0.785/0.740\n",
      "k: 11, Train/Test Score: 0.779/0.745\n",
      "k: 13, Train/Test Score: 0.773/0.750\n",
      "k: 15, Train/Test Score: 0.774/0.751\n",
      "k: 17, Train/Test Score: 0.771/0.753\n",
      "k: 19, Train/Test Score: 0.770/0.753\n",
      "k: 21, Train/Test Score: 0.769/0.754\n",
      "k: 23, Train/Test Score: 0.767/0.754\n",
      "k: 25, Train/Test Score: 0.767/0.754\n",
      "k: 27, Train/Test Score: 0.767/0.752\n",
      "k: 29, Train/Test Score: 0.767/0.753\n"
     ]
    },
    {
     "data": {
      "image/png": "[encoded data removed]",
      "text/plain": [
       "<Figure size 640x480 with 1 Axes>"
      ]
     },
     "metadata": {},
     "output_type": "display_data"
    }
   ],
   "source": [
    "# Loop through different k values to find which has the highest accuracy.\n",
    "# Note: We use only odd numbers because we don't want any ties.\n",
    "train_scores = []\n",
    "test_scores = []\n",
    "for k in range(1, 30, 2):\n",
    "    knn = KNeighborsClassifier(n_neighbors=k)\n",
    "    knn.fit(X_train_scaled, y_train)\n",
    "    train_score = knn.score(X_train_scaled, y_train)\n",
    "    test_score = knn.score(X_test_scaled, y_test)\n",
    "    train_scores.append(train_score)\n",
    "    test_scores.append(test_score)\n",
    "    print(f\"k: {k}, Train/Test Score: {train_score:.3f}/{test_score:.3f}\")\n",
    "    \n",
    "# Plot the results\n",
    "plt.plot(range(1, 30, 2), train_scores, marker='o', label=\"training scores\")\n",
    "plt.plot(range(1, 30, 2), test_scores, marker=\"x\", label=\"testing scores\")\n",
    "plt.xlabel(\"k neighbors\")\n",
    "plt.ylabel(\"accuracy score\")\n",
    "plt.legend()\n",
    "plt.show()"
   ]
  },
  {
   "cell_type": "markdown",
   "metadata": {},
   "source": [
    "### KNN Model"
   ]
  },
  {
   "cell_type": "code",
   "execution_count": 18,
   "metadata": {},
   "outputs": [
    {
     "name": "stdout",
     "output_type": "stream",
     "text": [
      "k=27 Test Acc: 0.752\n"
     ]
    }
   ],
   "source": [
    "# Train the KNN model with the best k value\n",
    "# Note that k: 9 seems to be the best choice for this dataset\n",
    "knn = KNeighborsClassifier(n_neighbors=27)\n",
    "knn.fit(X_train_scaled, y_train)\n",
    "print('k=27 Test Acc: %.3f' % knn.score(X_test_scaled, y_test))"
   ]
  },
  {
   "cell_type": "markdown",
   "metadata": {},
   "source": [
    "### Bag and Boost Models"
   ]
  },
  {
   "cell_type": "code",
   "execution_count": 19,
   "metadata": {},
   "outputs": [
    {
     "name": "stdout",
     "output_type": "stream",
     "text": [
      "Training Score: 0.7683142867067283\n",
      "Testing Score: 0.7695113056163384\n"
     ]
    }
   ],
   "source": [
    "# Train the Gradient Boosting classifier\n",
    "gbc = GradientBoostingClassifier(random_state=42).fit(X_train_scaled, y_train)\n",
    "\n",
    "# Evaluate the model\n",
    "print(f'Training Score: {gbc.score(X_train_scaled, y_train)}')\n",
    "print(f'Testing Score: {gbc.score(X_test_scaled, y_test)}')"
   ]
  },
  {
   "cell_type": "code",
   "execution_count": 20,
   "metadata": {},
   "outputs": [
    {
     "name": "stderr",
     "output_type": "stream",
     "text": [
      "/opt/anaconda3/lib/python3.12/site-packages/sklearn/ensemble/_weight_boosting.py:519: FutureWarning: The SAMME.R algorithm (the default) is deprecated and will be removed in 1.6. Use the SAMME algorithm to circumvent this warning.\n",
      "  warnings.warn(\n"
     ]
    },
    {
     "name": "stdout",
     "output_type": "stream",
     "text": [
      "Training Score: 0.7596998853728855\n",
      "Testing Score: 0.7665937272064187\n"
     ]
    }
   ],
   "source": [
    "# Train the AdaBoostClassifier\n",
    "abc = AdaBoostClassifier(random_state=42).fit(X_train_scaled, y_train)\n",
    "\n",
    "# Evaluate the model\n",
    "print(f'Training Score: {abc.score(X_train_scaled, y_train)}')\n",
    "print(f'Testing Score: {abc.score(X_test_scaled, y_test)}')"
   ]
  }
 ],
 "metadata": {
  "kernelspec": {
   "display_name": "base",
   "language": "python",
   "name": "python3"
  },
  "language_info": {
   "codemirror_mode": {
    "name": "ipython",
    "version": 3
   },
   "file_extension": ".py",
   "mimetype": "text/x-python",
   "name": "python",
   "nbconvert_exporter": "python",
   "pygments_lexer": "ipython3",
   "version": "3.12.2"
  }
 },
 "nbformat": 4,
 "nbformat_minor": 2
}
